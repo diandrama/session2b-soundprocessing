{
 "cells": [
  {
   "cell_type": "markdown",
   "metadata": {},
   "source": [
    "# Sound processing using Python\n",
    "*IMPRS - Using Python for Cognitive Science (2022). This tutorial is made by Noor Seijdel and is partly based on work by [Sophie Slaats](https://www.mpi.nl/people/slaats-sophie), and on  several [Pydub](https://github.com/jiaaro/pydub) tutorials*\n",
    "\n",
    "Welcome! In this module we will learn how to use Python for sound processing. Last week, we dicsussed Image Processing. This week, we will cover Sound Processing. \n",
    "\n",
    "After this session you will know:\n",
    "- How to open and save sound files and manipulate them using the PyDub package\n",
    "- How to split and splice sound files\n",
    "- How to append or mix audio from different files \n",
    "- How to change audio levels or apply simple effects such as filters \n",
    "\n",
    "All of these can be achieved using Pydub, a simple, well-designed Python module for audio manipulation. In the words of the PyDub authors:\n",
    "\"Pydub lets you do stuff to audio in a way that isn't stupid\". \n",
    "\n",
    "\n",
    "*For those who are interested we have added some resources for Using Praat in Python at the end of this tutorial. Note that this part is not mandatory.*\n",
    "\n",
    "\n",
    "##### 1.1 Installation and imports\n",
    "Following the installation guide, you have hopefully installed Pydub using pip, and ffmpeg using choco/brew. If not, please have a look at the installation manual. \n",
    "\n",
    "\n",
    "\n",
    "\n"
   ]
  },
  {
   "cell_type": "code",
   "execution_count": 6,
   "metadata": {},
   "outputs": [],
   "source": [
    "# You can also install a pip package in the current Jupyter kernel (uncomment the next lines)\n",
    "#import sys\n",
    "#!{sys.executable} -m pip install simpleaudio"
   ]
  },
  {
   "cell_type": "code",
   "execution_count": null,
   "metadata": {},
   "outputs": [],
   "source": []
  },
  {
   "cell_type": "code",
   "execution_count": 17,
   "metadata": {},
   "outputs": [],
   "source": [
    "import os\n",
    "from pydub import AudioSegment, silence, effects\n",
    "from pydub.playback import play\n",
    "from matplotlib.pyplot import plot, show, hist\n"
   ]
  },
  {
   "cell_type": "code",
   "execution_count": 18,
   "metadata": {},
   "outputs": [],
   "source": [
    "# Use this line of code if you can't add ffmpeg to your PATH (as per instructions)\n",
    "# doesn't hurt to add it ...\n",
    "AudioSegment.converter = \"C:\\\\ProgramData\\\\chocolatey\\\\bin\\\\ffmpeg.exe\"\n",
    "\n",
    "# Use the os module. Works for UNIX, Windows, MacOS...\n",
    "# e.g., to get working directory\n",
    "os.getcwd()\n",
    "\n",
    "# or change working directory\n",
    "os.chdir(\"c:\\\\Users\\\\bonny120\\\\Desktop\\\\Comp Bioacoustics\\\\IMPRS\\\\Courses#\\\\Python\\\\session2b-soundprocessing\")\n"
   ]
  },
  {
   "cell_type": "markdown",
   "metadata": {},
   "source": [
    "##### 1.2 Reading audio files "
   ]
  },
  {
   "cell_type": "code",
   "execution_count": 9,
   "metadata": {},
   "outputs": [
    {
     "name": "stdout",
     "output_type": "stream",
     "text": [
      "C:\\Users\\bonny120\\Desktop\\Comp Bioacoustics\\IMPRS\\Courses#\\Python\\session2b-soundprocessing\\raw\\g.wav\n"
     ]
    }
   ],
   "source": [
    "# where are the sound files?\n",
    "sound_folder = \"C:\\\\Users\\\\bonny120\\\\Desktop\\\\Comp Bioacoustics\\\\IMPRS\\\\Courses#\\\\Python\\\\session2b-soundprocessing\\\\raw\"\n",
    "\n",
    "# load a sound file\n",
    "sound_path = os.path.join(sound_folder, \"g.wav\")\n",
    "print(sound_path)\n",
    "sound = AudioSegment.from_wav(sound_path)\n"
   ]
  },
  {
   "cell_type": "code",
   "execution_count": null,
   "metadata": {},
   "outputs": [],
   "source": []
  },
  {
   "cell_type": "markdown",
   "metadata": {},
   "source": [
    "Just as with the image files, every audio file you work with will have a number of characteristics associated with them, such as, channels, frame rate (or sample rate), sample width and more.\n",
    "\n",
    "'AudioSegment' has attributes like 'channels', 'dBFS', 'duration_seconds'.\n",
    "Let's see what that means.\n"
   ]
  },
  {
   "cell_type": "code",
   "execution_count": 10,
   "metadata": {},
   "outputs": [
    {
     "name": "stdout",
     "output_type": "stream",
     "text": [
      "2.25\n",
      "2 -17.81510807375273 2.25\n"
     ]
    }
   ],
   "source": [
    "print(sound.duration_seconds)\n",
    "\n",
    "# Or access several of them in one line\n",
    "# dBFS: decibels relative to full scale\n",
    "# full scale; maximum possible digital level\n",
    "print(sound.channels, sound.dBFS, sound.duration_seconds)"
   ]
  },
  {
   "cell_type": "markdown",
   "metadata": {},
   "source": [
    "\n",
    "<font color='green'>**Exercise 1**</font>  Find out what the frame rate and max volume of sound is.\n"
   ]
  },
  {
   "cell_type": "code",
   "execution_count": 11,
   "metadata": {},
   "outputs": [
    {
     "name": "stdout",
     "output_type": "stream",
     "text": [
      "44100 32768.0\n"
     ]
    }
   ],
   "source": [
    "print(sound.frame_rate, sound.max_possible_amplitude)"
   ]
  },
  {
   "cell_type": "markdown",
   "metadata": {},
   "source": [
    "The frame rate or sampling rate says that this audio was recorded (sampled) with a sampling frequency of 44100. In other words, while recording this file we were capturing 44100 amplitudes every second. Thus, If we want to know the duration of the audio, we can also  divide the number of samples (frames) by the sampling-rate:"
   ]
  },
  {
   "cell_type": "code",
   "execution_count": 12,
   "metadata": {},
   "outputs": [
    {
     "name": "stdout",
     "output_type": "stream",
     "text": [
      "2.25\n"
     ]
    }
   ],
   "source": [
    "duration_snd = sound.frame_count()/sound.frame_rate\n",
    "print(duration_snd)"
   ]
  },
  {
   "cell_type": "markdown",
   "metadata": {},
   "source": [
    "One way to manipulate or change an audio file is by using\n",
    "\n",
    "`sound_edited = sound.set_ATTRIBUTENAME(x)`\n",
    "\n",
    "For example, you can change the number of channels (convert the file from stereo to mono) by calling `sound_mono = sound.set_channels(1)'\n",
    "\n",
    "<font color='green'>**Exercise 2**</font>  Try to change the frame rate:"
   ]
  },
  {
   "cell_type": "code",
   "execution_count": 13,
   "metadata": {},
   "outputs": [
    {
     "name": "stdout",
     "output_type": "stream",
     "text": [
      "44100\n"
     ]
    }
   ],
   "source": [
    "sound_edited = sound.set_frame_rate(44100)\n",
    "print(sound_edited.frame_rate)"
   ]
  },
  {
   "cell_type": "markdown",
   "metadata": {},
   "source": [
    "Okay! So AudioSegment objects are immutable and support a number of operations. \n",
    "\n",
    "##### 1.3 Let's play the sound!"
   ]
  },
  {
   "cell_type": "code",
   "execution_count": 14,
   "metadata": {},
   "outputs": [],
   "source": [
    "# Play a sound\n",
    "play(sound)"
   ]
  },
  {
   "cell_type": "markdown",
   "metadata": {},
   "source": [
    "##### 1.4 Visualize the sound\n",
    "A sound is a time-series, like EEG or MEG data. It is an array of samples with a specific value. PyDub can give us this so we can plot it:"
   ]
  },
  {
   "cell_type": "code",
   "execution_count": 15,
   "metadata": {},
   "outputs": [],
   "source": [
    "array = sound.get_array_of_samples()"
   ]
  },
  {
   "cell_type": "markdown",
   "metadata": {},
   "source": [
    "This returns the raw audio data as an array of (numeric) samples. \n",
    "*Note: if the audio has multiple channels, the samples for each channel will be serialized – for example, stereo audio would look like [sample_1_L, sample_1_R, sample_2_L, sample_2_R, …].*\n"
   ]
  },
  {
   "cell_type": "code",
   "execution_count": 16,
   "metadata": {},
   "outputs": [],
   "source": [
    "# Take a look at the array\n",
    "#print(array)\n"
   ]
  },
  {
   "cell_type": "markdown",
   "metadata": {},
   "source": [
    "Now we can plot it! "
   ]
  },
  {
   "cell_type": "code",
   "execution_count": 17,
   "metadata": {},
   "outputs": [
    {
     "data": {
      "image/png": "[encoded data removed]",
      "text/plain": [
       "<Figure size 432x288 with 1 Axes>"
      ]
     },
     "metadata": {
      "needs_background": "light"
     },
     "output_type": "display_data"
    }
   ],
   "source": [
    "# Now we plot it. If you don't run in console, you have to type show() to actually open a window with the plot.\n",
    "plot(array)\n",
    "show()\n"
   ]
  },
  {
   "cell_type": "markdown",
   "metadata": {},
   "source": [
    "This visualization is called the time-domain representation of a given signal. This shows us the loudness (amplitude) of sound wave changing with time. Here amplitude = 0 represents silence. "
   ]
  },
  {
   "cell_type": "markdown",
   "metadata": {},
   "source": [
    "##### 1.5 Saving audio files and changing the extension\n",
    "\n",
    "If you've made some changes to your audio files, or if they've got the wrong file extension, you can use PyDub to export and save them as new audio files.\n",
    "\n",
    "You can do this by using the .export() function on any instance of an AudioSegment you've created. The export() function takes two parameters, out_f, or the destination file path of your audio file and format, the format you'd like your new audio file to be. Both of these are strings. format is \"mp3\" by default so be sure to change it if you need.\n",
    "\n",
    "Let's start by saving the extension of our file to .mp3:"
   ]
  },
  {
   "cell_type": "code",
   "execution_count": 18,
   "metadata": {},
   "outputs": [
    {
     "name": "stdout",
     "output_type": "stream",
     "text": [
      "C:\\Users\\bonny120\\Desktop\\Comp Bioacoustics\\IMPRS\\Courses#\\Python\\session2b-soundprocessing\\raw\\g\n",
      "C:\\Users\\bonny120\\Desktop\\Comp Bioacoustics\\IMPRS\\Courses#\\Python\\session2b-soundprocessing\\raw\\g.mp3\n"
     ]
    }
   ],
   "source": [
    "# Change the extension: wav to mp3\n",
    "# first: split the extension and the name using os.path.splitext\n",
    "# N.B.: the function os.path.split() splits the path to the folder from the filename.\n",
    "filename, extension = os.path.splitext(sound_path)\n",
    "print(filename)\n",
    "\n",
    "# Export the sound to change the extension\n",
    "new_filename = os.path.join(sound_folder, filename) + \".mp3\"\n",
    "print(new_filename)\n",
    "file_handle = sound_edited.export(new_filename, format=\"mp3\")\n",
    "file_handle.close()\n"
   ]
  },
  {
   "cell_type": "markdown",
   "metadata": {},
   "source": [
    "We can also remove it again:"
   ]
  },
  {
   "cell_type": "code",
   "execution_count": 19,
   "metadata": {},
   "outputs": [],
   "source": [
    "os.remove(new_filename)"
   ]
  },
  {
   "cell_type": "markdown",
   "metadata": {},
   "source": [
    "Or, we can make a new folder to save our edited or changed audiofiles:"
   ]
  },
  {
   "cell_type": "code",
   "execution_count": 20,
   "metadata": {},
   "outputs": [],
   "source": [
    "new_folder = \"C:\\\\Users\\\\bonny120\\\\Desktop\\\\Comp Bioacoustics\\\\IMPRS\\Courses#\\\\Python\\\\session2b-soundprocessing\\\\practice_folder\"\n",
    "if not os.path.isdir(new_folder): # Here we check if the folder already exists! If so, we do not have to make it again. \n",
    "   os.mkdir(new_folder)\n"
   ]
  },
  {
   "cell_type": "markdown",
   "metadata": {},
   "source": [
    "<font color='green'>**Exercise 2:**</font>  Store the audio files in the new folder.\n"
   ]
  },
  {
   "cell_type": "code",
   "execution_count": 21,
   "metadata": {},
   "outputs": [
    {
     "data": {
      "text/plain": [
       "['c.wav',\n",
       " 'e.wav',\n",
       " 'g.wav',\n",
       " 'HF_recording.wav',\n",
       " 'left_right.wav',\n",
       " 'LF_recording.wav',\n",
       " 'metallic-beat-short.wav',\n",
       " 'notes_2_16_44.wav',\n",
       " 'NW_recording.wav',\n",
       " 'Sample.wav',\n",
       " 'the_north_wind_and_the_sun.wav']"
      ]
     },
     "execution_count": 21,
     "metadata": {},
     "output_type": "execute_result"
    }
   ],
   "source": [
    "os.listdir(sound_folder)\n"
   ]
  },
  {
   "cell_type": "code",
   "execution_count": 22,
   "metadata": {},
   "outputs": [
    {
     "name": "stdout",
     "output_type": "stream",
     "text": [
      "['c.wav', 'e.wav', 'g.wav', 'HF_recording.wav', 'left_right.wav', 'LF_recording.wav', 'metallic-beat-short.wav', 'notes_2_16_44.wav', 'NW_recording.wav', 'Sample.wav', 'the_north_wind_and_the_sun.wav']\n",
      "<pydub.audio_segment.AudioSegment object at 0x0000018E1AB594B0>\n",
      "<pydub.audio_segment.AudioSegment object at 0x0000018E1B0159C0>\n",
      "<pydub.audio_segment.AudioSegment object at 0x0000018E1B385B40>\n",
      "<pydub.audio_segment.AudioSegment object at 0x0000018E2B6809A0>\n",
      "<pydub.audio_segment.AudioSegment object at 0x0000018E1B354250>\n",
      "<pydub.audio_segment.AudioSegment object at 0x0000018E1B015900>\n",
      "<pydub.audio_segment.AudioSegment object at 0x0000018E2BEC7EB0>\n",
      "<pydub.audio_segment.AudioSegment object at 0x0000018E1B354250>\n",
      "<pydub.audio_segment.AudioSegment object at 0x0000018E2B6809A0>\n",
      "<pydub.audio_segment.AudioSegment object at 0x0000018E1B385B40>\n",
      "<pydub.audio_segment.AudioSegment object at 0x0000018E1B3859F0>\n"
     ]
    }
   ],
   "source": [
    "#### YOUR CODE HERE\n",
    "# Hint: do you remember how to list all files in one folder?\n",
    "#os.listdir()\n",
    "sounds = os.listdir(sound_folder)\n",
    "print(sounds)\n",
    "for i in sounds:\n",
    "    soundi = AudioSegment.from_wav(os.path.join(sound_folder, i)) # isn't that way too complicated to splice it first and then add?\n",
    "    print(soundi)\n",
    "    soundi.export(os.path.join(new_folder, i))\n",
    "\n",
    "    #os.replace(sound_folder, new_folder)"
   ]
  },
  {
   "cell_type": "markdown",
   "metadata": {},
   "source": [
    "Okay, so we now know how to read in audio files, inspect their attributes, visualize them and export them (to different formats). Now let's have a look at manipulating your audio files! \n",
    "\n",
    "##### 1.6 Manipulating Audiofiles \n",
    "##### 1.6.1 Splitting and splicing"
   ]
  },
  {
   "cell_type": "markdown",
   "metadata": {},
   "source": [
    "We can split our audiofile in two on the basis of duration. \n",
    "\n",
    "Let's try to get the first half and the second half of our audiofile (note that Pydub works in milliseconds!)"
   ]
  },
  {
   "cell_type": "code",
   "execution_count": 23,
   "metadata": {},
   "outputs": [],
   "source": [
    "\n",
    "halftime = (sound.duration_seconds / 2) * 1000\n",
    "first_half = sound[:halftime]\n",
    "second_half = sound[halftime:]\n"
   ]
  },
  {
   "cell_type": "markdown",
   "metadata": {},
   "source": [
    "Did it work?\n",
    "\n",
    "<font color='green'>**Exercise 3:**</font>  Check if it worked by playing the two audiofiles: "
   ]
  },
  {
   "cell_type": "code",
   "execution_count": 24,
   "metadata": {},
   "outputs": [],
   "source": [
    "### YOUR CODE HERE\n",
    "play(first_half)\n",
    "play(second_half)\n"
   ]
  },
  {
   "cell_type": "markdown",
   "metadata": {},
   "source": [
    "##### 1.6.2 Combining\n",
    "\n",
    "We can also combine multiple AudioSegment objects by concatenating them:  \n",
    "\n",
    "\n"
   ]
  },
  {
   "cell_type": "code",
   "execution_count": 25,
   "metadata": {},
   "outputs": [
    {
     "data": {
      "image/png": "[encoded data removed]",
      "text/plain": [
       "<Figure size 432x288 with 1 Axes>"
      ]
     },
     "metadata": {
      "needs_background": "light"
     },
     "output_type": "display_data"
    }
   ],
   "source": [
    "# concatenate them\n",
    "wrong_order = second_half + first_half\n",
    "plot(wrong_order.get_array_of_samples())\n",
    "play(wrong_order)"
   ]
  },
  {
   "cell_type": "markdown",
   "metadata": {},
   "source": [
    "Or add silence in between:"
   ]
  },
  {
   "cell_type": "code",
   "execution_count": 26,
   "metadata": {},
   "outputs": [
    {
     "data": {
      "text/plain": [
       "[<matplotlib.lines.Line2D at 0x18e2be538e0>]"
      ]
     },
     "execution_count": 26,
     "metadata": {},
     "output_type": "execute_result"
    },
    {
     "data": {
      "image/png": "[encoded data removed]",
      "text/plain": [
       "<Figure size 432x288 with 1 Axes>"
      ]
     },
     "metadata": {
      "needs_background": "light"
     },
     "output_type": "display_data"
    }
   ],
   "source": [
    "silent_time = AudioSegment.silent(duration=2000)\n",
    "wrong_order_silence = second_half + silent_time + first_half\n",
    "\n",
    "plot(wrong_order_silence.get_array_of_samples())\n"
   ]
  },
  {
   "cell_type": "code",
   "execution_count": 27,
   "metadata": {},
   "outputs": [],
   "source": [
    "play(wrong_order_silence)"
   ]
  },
  {
   "cell_type": "markdown",
   "metadata": {},
   "source": [
    "Note that any operation that combines multiple AudioSegment objects in any way will first ensure that they have the same number of channels, frame rate, sample rate, bit depth, etc. When these things do not match, the lower quality sound is modified to match the quality of the higher quality sound so that quality is not lost: mono is converted to stereo, bit depth and frame rate/sample rate are increased as needed. If you do not want this behavior, you may explicitly reduce the number of channels, bits, etc using the appropriate AudioSegment methods.\n",
    "\n",
    "\n",
    "##### 1.6.3 Splitting on the basis of silence\n",
    "\n",
    "But we can't just ADD silence -- we can also split the sound file on the basis of silence!\n",
    "Let's try it out on a more complicated sound file: \n"
   ]
  },
  {
   "cell_type": "code",
   "execution_count": 28,
   "metadata": {},
   "outputs": [
    {
     "name": "stdout",
     "output_type": "stream",
     "text": [
      "C:\\Users\\bonny120\\Desktop\\Comp Bioacoustics\\IMPRS\\Courses#\\Python\\session2b-soundprocessing\\raw\\HF_recording.wav\n"
     ]
    }
   ],
   "source": [
    "# load a sound file\n",
    "sound_path = os.path.join(sound_folder, \"HF_recording.wav\")\n",
    "print(sound_path)\n",
    "sound = AudioSegment.from_wav(sound_path)\n"
   ]
  },
  {
   "cell_type": "code",
   "execution_count": 29,
   "metadata": {},
   "outputs": [
    {
     "data": {
      "text/plain": [
       "(array([   5598.,    6373.,   14094.,   43491.,  480449., 1723976.,\n",
       "          41569.,   14003.,    6868.,    7447.]),\n",
       " array([-3.27680e+04, -2.62145e+04, -1.96610e+04, -1.31075e+04,\n",
       "        -6.55400e+03, -5.00000e-01,  6.55300e+03,  1.31065e+04,\n",
       "         1.96600e+04,  2.62135e+04,  3.27670e+04]),\n",
       " <BarContainer object of 10 artists>)"
      ]
     },
     "execution_count": 29,
     "metadata": {},
     "output_type": "execute_result"
    },
    {
     "data": {
      "image/png": "[encoded data removed]",
      "text/plain": [
       "<Figure size 432x288 with 1 Axes>"
      ]
     },
     "metadata": {
      "needs_background": "light"
     },
     "output_type": "display_data"
    }
   ],
   "source": [
    "#play(sound)\n",
    "hist(sound.get_array_of_samples())"
   ]
  },
  {
   "cell_type": "code",
   "execution_count": 30,
   "metadata": {},
   "outputs": [],
   "source": [
    "words = silence.split_on_silence(sound, min_silence_len=50, silence_thresh=-500)"
   ]
  },
  {
   "cell_type": "code",
   "execution_count": 31,
   "metadata": {},
   "outputs": [
    {
     "data": {
      "text/plain": [
       "[<pydub.audio_segment.AudioSegment at 0x18e2f297460>,\n",
       " <pydub.audio_segment.AudioSegment at 0x18e2f2974f0>,\n",
       " <pydub.audio_segment.AudioSegment at 0x18e2f297040>,\n",
       " <pydub.audio_segment.AudioSegment at 0x18e2f297220>,\n",
       " <pydub.audio_segment.AudioSegment at 0x18e2f294610>,\n",
       " <pydub.audio_segment.AudioSegment at 0x18e2f2945e0>,\n",
       " <pydub.audio_segment.AudioSegment at 0x18e2f294820>,\n",
       " <pydub.audio_segment.AudioSegment at 0x18e2f296e30>,\n",
       " <pydub.audio_segment.AudioSegment at 0x18e2f296dd0>,\n",
       " <pydub.audio_segment.AudioSegment at 0x18e2f296f50>,\n",
       " <pydub.audio_segment.AudioSegment at 0x18e2f294130>,\n",
       " <pydub.audio_segment.AudioSegment at 0x18e2f297730>,\n",
       " <pydub.audio_segment.AudioSegment at 0x18e2f2977f0>,\n",
       " <pydub.audio_segment.AudioSegment at 0x18e2f2978e0>,\n",
       " <pydub.audio_segment.AudioSegment at 0x18e2f297400>,\n",
       " <pydub.audio_segment.AudioSegment at 0x18e2f297580>,\n",
       " <pydub.audio_segment.AudioSegment at 0x18e2f2971f0>,\n",
       " <pydub.audio_segment.AudioSegment at 0x18e2f296ef0>,\n",
       " <pydub.audio_segment.AudioSegment at 0x18e2f2978b0>,\n",
       " <pydub.audio_segment.AudioSegment at 0x18e2f297820>,\n",
       " <pydub.audio_segment.AudioSegment at 0x18e2f297880>,\n",
       " <pydub.audio_segment.AudioSegment at 0x18e2f296e00>,\n",
       " <pydub.audio_segment.AudioSegment at 0x18e2f297760>,\n",
       " <pydub.audio_segment.AudioSegment at 0x18e2f297b50>,\n",
       " <pydub.audio_segment.AudioSegment at 0x18e2f297790>,\n",
       " <pydub.audio_segment.AudioSegment at 0x18e2f294bb0>,\n",
       " <pydub.audio_segment.AudioSegment at 0x18e2f297070>,\n",
       " <pydub.audio_segment.AudioSegment at 0x18e2f297700>,\n",
       " <pydub.audio_segment.AudioSegment at 0x18e2f2942e0>,\n",
       " <pydub.audio_segment.AudioSegment at 0x18e2f294100>,\n",
       " <pydub.audio_segment.AudioSegment at 0x18e2f294ac0>,\n",
       " <pydub.audio_segment.AudioSegment at 0x18e2f2968c0>,\n",
       " <pydub.audio_segment.AudioSegment at 0x18e2bf20d60>,\n",
       " <pydub.audio_segment.AudioSegment at 0x18e2bf222c0>,\n",
       " <pydub.audio_segment.AudioSegment at 0x18e2bf228c0>,\n",
       " <pydub.audio_segment.AudioSegment at 0x18e2bf20550>,\n",
       " <pydub.audio_segment.AudioSegment at 0x18e2bf201c0>,\n",
       " <pydub.audio_segment.AudioSegment at 0x18e2bf20bb0>,\n",
       " <pydub.audio_segment.AudioSegment at 0x18e2bf22920>,\n",
       " <pydub.audio_segment.AudioSegment at 0x18e2bf22830>,\n",
       " <pydub.audio_segment.AudioSegment at 0x18e2bf22890>,\n",
       " <pydub.audio_segment.AudioSegment at 0x18e2bf20400>,\n",
       " <pydub.audio_segment.AudioSegment at 0x18e2bf22800>,\n",
       " <pydub.audio_segment.AudioSegment at 0x18e2bf22350>,\n",
       " <pydub.audio_segment.AudioSegment at 0x18e2f223f40>,\n",
       " <pydub.audio_segment.AudioSegment at 0x18e2f222d40>,\n",
       " <pydub.audio_segment.AudioSegment at 0x18e2f222800>,\n",
       " <pydub.audio_segment.AudioSegment at 0x18e2f222620>,\n",
       " <pydub.audio_segment.AudioSegment at 0x18e2f223fa0>,\n",
       " <pydub.audio_segment.AudioSegment at 0x18e2f2234c0>]"
      ]
     },
     "execution_count": 31,
     "metadata": {},
     "output_type": "execute_result"
    }
   ],
   "source": [
    "words"
   ]
  },
  {
   "cell_type": "markdown",
   "metadata": {},
   "source": [
    "Okay, so splitting this file gives you multiple segments, depending on the parameters `min_silence_len` and `silence_thresh`. \n",
    "\n",
    "Let's listen to the first segment:\n"
   ]
  },
  {
   "cell_type": "code",
   "execution_count": 32,
   "metadata": {},
   "outputs": [],
   "source": [
    "play(words[0])"
   ]
  },
  {
   "cell_type": "markdown",
   "metadata": {},
   "source": [
    "\n",
    "\n",
    "<font color='green'>**Exercise 4 :**</font> What happens if we change the minimal silence length and the silence threshold? Try it out!"
   ]
  },
  {
   "cell_type": "code",
   "execution_count": 33,
   "metadata": {},
   "outputs": [],
   "source": [
    "### YOUR CODE HERE \n",
    "\n",
    "words = silence.split_on_silence(sound, min_silence_len=5, silence_thresh=-50)\n",
    "play(words[0])\n",
    "\n",
    "words = silence.split_on_silence(sound, min_silence_len=5000, silence_thresh=-500000)\n",
    "play(words[0])"
   ]
  },
  {
   "cell_type": "markdown",
   "metadata": {},
   "source": []
  },
  {
   "cell_type": "markdown",
   "metadata": {},
   "source": [
    "##### 1.6.4 Changing the volume\n",
    "\n",
    "Are your audio files too loud or too quiet? You can make your AudioSegments louder or quieter by adding or subtracting integers. Let's make our wav file 4 decibels louders and 10 decibels quieter."
   ]
  },
  {
   "cell_type": "code",
   "execution_count": 34,
   "metadata": {},
   "outputs": [],
   "source": [
    "auto_sound = words[0]\n",
    "# change the volume by a number of dBs\n",
    "louder = auto_sound[:] + 4\n",
    "lower = auto_sound[:] - 10"
   ]
  },
  {
   "cell_type": "markdown",
   "metadata": {},
   "source": [
    "And play them:"
   ]
  },
  {
   "cell_type": "code",
   "execution_count": 35,
   "metadata": {},
   "outputs": [],
   "source": [
    "\n",
    "play(louder)\n",
    "play(lower)\n"
   ]
  },
  {
   "cell_type": "markdown",
   "metadata": {},
   "source": [
    "In order to not confuse concatenation with volume change, you can also write:"
   ]
  },
  {
   "cell_type": "code",
   "execution_count": 37,
   "metadata": {},
   "outputs": [],
   "source": [
    "louder = auto_sound.apply_gain(4)\n",
    "lower = auto_sound.apply_gain(-10)"
   ]
  },
  {
   "cell_type": "markdown",
   "metadata": {},
   "source": [
    "Sometimes, you might want to change the volume in comparison to a given value.\n",
    "This is always relative to the maximum volume; maximum = 0."
   ]
  },
  {
   "cell_type": "code",
   "execution_count": 36,
   "metadata": {},
   "outputs": [
    {
     "name": "stdout",
     "output_type": "stream",
     "text": [
      "-15.215917314085715\n"
     ]
    }
   ],
   "source": [
    "print(louder.dBFS)\n",
    "# say, we want the volume to be 6 dB lower than maximum; -6 dBFS\n",
    "target_volume = -6\n",
    "change = target_volume - louder.dBFS\n"
   ]
  },
  {
   "cell_type": "markdown",
   "metadata": {},
   "source": [
    "So this is how much we need to change the volume:"
   ]
  },
  {
   "cell_type": "code",
   "execution_count": 38,
   "metadata": {},
   "outputs": [
    {
     "name": "stdout",
     "output_type": "stream",
     "text": [
      "9.215917314085715\n"
     ]
    }
   ],
   "source": [
    "\n",
    "print(change)\n"
   ]
  },
  {
   "cell_type": "code",
   "execution_count": 39,
   "metadata": {},
   "outputs": [],
   "source": [
    "# change it:\n",
    "target_sound = auto_sound.apply_gain(change)\n",
    "play(target_sound)\n"
   ]
  },
  {
   "cell_type": "markdown",
   "metadata": {},
   "source": [
    "There are many other things you can do, such as play the sound backwards, change the speed or overlay different sounds:  "
   ]
  },
  {
   "cell_type": "code",
   "execution_count": 40,
   "metadata": {},
   "outputs": [],
   "source": [
    "# Extra: funny stuff\n",
    "# reverse\n",
    "backwards = auto_sound.reverse()\n",
    "#play(backwards)"
   ]
  },
  {
   "cell_type": "code",
   "execution_count": 41,
   "metadata": {},
   "outputs": [],
   "source": [
    "# Change the speed\n",
    "hasty = effects.speedup(auto_sound, playback_speed=1.5)\n",
    "#play(hasty)"
   ]
  },
  {
   "cell_type": "code",
   "execution_count": 42,
   "metadata": {},
   "outputs": [],
   "source": [
    "# Fade-out\n",
    "faded = backwards.fade_in(1000).fade_out(1000)\n",
    "#play(faded)"
   ]
  },
  {
   "cell_type": "code",
   "execution_count": 43,
   "metadata": {},
   "outputs": [],
   "source": [
    "# Overlay \n",
    "overlayed = target_sound.overlay(backwards)\n",
    "#play(overlayed)"
   ]
  },
  {
   "cell_type": "markdown",
   "metadata": {},
   "source": [
    "\n",
    "##### 1.7 Synthesizing Tones\n",
    "Aside from loading and processing audio files, Pydub can also synthesize new tones.\n",
    "These can be sine, square, or sawtooth waves, at any frequency. It can also generate white noise. Tones can be turned into AudioSegment and combined like regular audio files.\n",
    "In the following example, we’ll use the Sine class to generate sine tones for the first 15 intervals in the harmonic series.\n"
   ]
  },
  {
   "cell_type": "code",
   "execution_count": 44,
   "metadata": {},
   "outputs": [],
   "source": [
    "from pydub.generators import Sine\n",
    "\n",
    "# Create an empty AudioSegment\n",
    "result = AudioSegment.silent(duration=0)\n",
    "# Loop over 0-14\n",
    "for n in range(15):\n",
    "    # Generate a sine tone with frequency 200 * n\n",
    "    gen = Sine(200 * n)\n",
    "    # AudioSegment with duration 200ms, gain -3\n",
    "    sine  = gen.to_audio_segment(duration=200).apply_gain(-3)\n",
    "    # Fade in / out\n",
    "    sine = sine.fade_in(50).fade_out(100)\n",
    "    # Append the sine to our result\n",
    "    result += sine\n",
    "# Play the result\n",
    "play(result)\n"
   ]
  },
  {
   "cell_type": "markdown",
   "metadata": {},
   "source": [
    "\n",
    "*Notice how we use the += operator to append each 200ms sine tone to the end of our empty segment.*\n",
    "\n",
    "<font color='green'>**Exercise 5:**</font> Play around with synthesizing tones and make a nice short song (if you do not think this is fun and helps you develop your python skills, skip it)"
   ]
  },
  {
   "cell_type": "code",
   "execution_count": 45,
   "metadata": {},
   "outputs": [],
   "source": [
    "#### YOUR CODE HERE \n",
    "# Create an empty AudioSegment\n",
    "result = AudioSegment.silent(duration=0)\n",
    "# Loop over 0-50\n",
    "for n in range(51):\n",
    "    # Generate a sine tone with frequency 200 * n\n",
    "    gen = Sine(200 * n)\n",
    "    # AudioSegment with duration 200ms, gain -3\n",
    "    sine  = gen.to_audio_segment(duration=100).apply_gain(-1)\n",
    "    # Fade in / out\n",
    "    sine = sine.fade_in(500).fade_out(10)\n",
    "    # Append the sine to our result\n",
    "    result += sine\n",
    "play(result)\n",
    "\n",
    "result2= result.reverse()\n",
    "play(result2)"
   ]
  },
  {
   "cell_type": "markdown",
   "metadata": {},
   "source": [
    "<font color='yellow'>**Homework assignment**</font> \n",
    "\n",
    "We have three conditions: High Frequency (HF), Low Frequency (LF), and Non-Words (NW). All words for each condition are stored in one .wav file.\n",
    "Your task is to:\n",
    "- split the words on the silence\n",
    "- make sure they all have the same loudness\n",
    "- save them in a folder corresponding to their condition (folder names: HF, LF, NW)\n",
    "\n",
    "\n",
    "To help you, we have included a text file with information about the stimuli you are going to split (names & condition),\n",
    "and returned a dictionary named 'stimuli' with condition as key, and the word itself as value. You can use this dictionary to name the files you have to save.\n",
    "\n",
    "**Quick check: did Teun discuss dictionaries in Session 1? or did we run out of time?** If so, do not worry! I will post some code snippets to help you get to the solution without knowledge of dictionaries. \n"
   ]
  },
  {
   "cell_type": "code",
   "execution_count": 47,
   "metadata": {},
   "outputs": [
    {
     "name": "stdout",
     "output_type": "stream",
     "text": [
      "{'LF': ['ambten', 'balkons', 'barse', 'beitels', 'bonkte', 'buidels', 'clusters', 'deun', 'etui', 'flans', 'gevels', 'gisten', 'gonsde', 'grief', 'hese', 'imams', 'juffen', 'karpers', 'klavier', 'lanen', 'lijsters', 'lome', 'margriet', 'metrum', 'oker', 'polders', 'ponten', 'porde', 'puien', 'rafel', 'ratels', 'reigers', 'rogge', 'schoffels', 'schuiten', 'sfinxen', 'sikkels', 'sjalot', 'snert', 'spurt', 'stekken', 'stengels', 'stram', 'strotten', 'suste', 'topaas', 'venkel', 'woei', 'wrongel', 'zolders'], 'HF': ['auto', 'baby', 'begin', 'bezig', 'bij', 'boek', 'dacht', 'dood', 'eigen', 'gaf', 'gedaan', 'gemaakt', 'geweest', 'ging', 'had', 'hard', 'hele', 'help', 'hen', 'heren', 'hield', 'idee', 'juist', 'kom', 'krijg', 'lekker', 'los', 'moeder', 'morgen', 'ogen', 'open', 'plaats', 'plan', 'recht', 'redden', 'reden', 'soort', 'sta', 'uur', 'vallen', 'vraag', 'vroeg', 'wachten', 'wakker', 'werd', 'wist', 'zag', 'zeg', 'zit', 'zoek'], 'NW': ['ant', 'bezans', 'bluit', 'bluurde', 'brad', 'bralat', 'breent', 'brum', 'darboen', 'doppel', 'drintels', 'entel', 'fankel', 'fradingo', 'gals', 'gardien', 'gebeikt', 'gefaapt', 'gefruld', 'geslonden', 'gesmalpt', 'gevupt', 'gewunnen', 'giep', 'gietsen', 'gimmel', 'glaf', 'glijp', 'goont', 'grantel', 'grede', 'groeken', 'herken', 'hormen', 'jaat', 'jugen', 'kabrieken', 'kadders', 'kandola', 'kiemeten', 'kijs', 'kimensie', 'klaam', 'klaap', 'knaarde', 'kormel', 'kumus', 'kuukt', 'kwarp', 'labber', 'leumen', 'liek', 'loedsels', 'megen', 'mijk', 'millag', 'moksen', 'monen', 'murselein', 'nammer', 'nef', 'nergen', 'pals', 'pectars', 'pirrel', 'plenk', 'plin', 'plirken', 'ploe', 'plond', 'prookt', 'pruit', 'rakot', 'rastel', 'rieve', 'rogenten', 'rokan', 'rons', 'rufel', 'slont', 'sluinen', 'smaan', 'snarpen', 'snoen', 'spodiel', 'stiraal', 'stodeum', 'tombel', 'trorg', 'udel', 'vebras', 'verke', 'vlorken', 'vlump', 'vrijk', 'vroel', 'women', 'zelijk', 'zerder', 'zuun']}\n"
     ]
    }
   ],
   "source": [
    "# This piece of code is here to help you.\n",
    "\n",
    "import csv\n",
    "path_to_repository = \"c:\\\\Users\\\\bonny120\\\\Desktop\\\\Comp Bioacoustics\\\\IMPRS\\\\Courses#\\\\Python\\\\session2b-soundprocessing\"  # add your own path here!\n",
    "\n",
    "# It reads a text file with information about the stimuli you are going to split (names & condition),\n",
    "# and returns a dictionary named 'stimuli' with condition as key, and the word itself as value.\n",
    "# You can use this dictionary to name the files you have to save.\n",
    "stimuli_info = open(os.path.join(path_to_repository, \"lexdec_stimuli.txt\"))\n",
    "stimuli_reader = csv.reader(stimuli_info, delimiter=',')\n",
    "headers = next(stimuli_reader, None)\n",
    "\n",
    "# Create the dictionary\n",
    "stimuli = {}\n",
    "for stimulus in stimuli_reader:\n",
    "    if stimulus[2] not in stimuli.keys():\n",
    "        stimuli[stimulus[2]] = list()\n",
    "    stimuli[stimulus[2]].append(stimulus[3])\n",
    "\n",
    "# Put them in alphabetical order\n",
    "for condition, words in stimuli.items():\n",
    "    sort = sorted(words)\n",
    "    stimuli[condition] = sort\n",
    "\n",
    "# change the non-word condition name\n",
    "stimuli[\"NW\"] = stimuli.pop(\"none\")\n",
    "\n",
    "# Now you have the stimulus names. Let's take a look at the dictionary:\n",
    "print(stimuli)\n"
   ]
  },
  {
   "cell_type": "markdown",
   "metadata": {},
   "source": [
    "\n",
    "##### Some hints:\n",
    "1. Where are the stimuli?\n",
    "2. How loud do you want your stimuli to be? Store it in a variable\n",
    "3. Where do you want to save your files? Make separate folders for the conditions.\n",
    "4. Do you normalize the volume for the whole sequence or for separate words? Why (not)? Try it if you like :)\n",
    "5. You can check whether your splitting worked by playing the sound, or by printing the length of the resulting list\n",
    "6. Use the index of the word [in the list of words you get after splitting] to get the right text from the dictionary.\n",
    "7. Recall you can plot your results to see what you have done.\n",
    "Good luck!"
   ]
  },
  {
   "cell_type": "code",
   "execution_count": 55,
   "metadata": {},
   "outputs": [
    {
     "name": "stdout",
     "output_type": "stream",
     "text": [
      "50\n",
      "50\n",
      "-19.99946987154684\n",
      "auto\n",
      "-19.99946987154684\n",
      "baby\n",
      "-19.99946987154684\n",
      "begin\n",
      "-19.99946987154684\n",
      "bezig\n",
      "-19.99946987154684\n",
      "bij\n",
      "-19.996819714504753\n",
      "boek\n",
      "-19.99946987154684\n",
      "dacht\n",
      "-19.99946987154684\n",
      "dood\n",
      "-19.99946987154684\n",
      "eigen\n",
      "-19.99946987154684\n",
      "gaf\n",
      "-19.996819714504753\n",
      "gedaan\n",
      "-19.996819714504753\n",
      "gemaakt\n",
      "-19.996819714504753\n",
      "geweest\n",
      "-20.00212083742674\n",
      "ging\n",
      "-20.00212083742674\n",
      "had\n",
      "-19.996819714504753\n",
      "hard\n",
      "-19.99946987154684\n",
      "hele\n",
      "-19.99946987154684\n",
      "help\n",
      "-20.00212083742674\n",
      "hen\n",
      "-20.00212083742674\n",
      "heren\n",
      "-19.99946987154684\n",
      "hield\n",
      "-19.99946987154684\n",
      "idee\n",
      "-19.99946987154684\n",
      "juist\n",
      "-19.996819714504753\n",
      "kom\n",
      "-19.996819714504753\n",
      "krijg\n",
      "-19.99946987154684\n",
      "lekker\n",
      "-19.99946987154684\n",
      "los\n",
      "-19.99946987154684\n",
      "moeder\n",
      "-20.00212083742674\n",
      "morgen\n",
      "-19.99946987154684\n",
      "ogen\n",
      "-19.996819714504753\n",
      "open\n",
      "-20.00212083742674\n",
      "plaats\n",
      "-20.00212083742674\n",
      "plan\n",
      "-20.00212083742674\n",
      "recht\n",
      "-20.00212083742674\n",
      "redden\n",
      "-19.99946987154684\n",
      "reden\n",
      "-19.99946987154684\n",
      "soort\n",
      "-19.99946987154684\n",
      "sta\n",
      "-19.99946987154684\n",
      "uur\n",
      "-19.99946987154684\n",
      "vallen\n",
      "-19.99946987154684\n",
      "vraag\n",
      "-19.99946987154684\n",
      "vroeg\n",
      "-19.991521824960774\n",
      "wachten\n",
      "-19.996819714504753\n",
      "wakker\n",
      "-19.99946987154684\n",
      "werd\n",
      "-19.99946987154684\n",
      "wist\n",
      "-19.99946987154684\n",
      "zag\n",
      "-19.996819714504753\n",
      "zeg\n",
      "-20.00212083742674\n",
      "zit\n",
      "-19.99946987154684\n",
      "zoek\n",
      "50\n",
      "50\n",
      "-20.00212083742674\n",
      "ambten\n",
      "-19.996819714504753\n",
      "balkons\n",
      "-19.99946987154684\n",
      "barse\n",
      "-19.99946987154684\n",
      "beitels\n",
      "-20.00212083742674\n",
      "bonkte\n",
      "-19.99946987154684\n",
      "buidels\n",
      "-19.99946987154684\n",
      "clusters\n",
      "-19.99946987154684\n",
      "deun\n",
      "-19.99946987154684\n",
      "etui\n",
      "-19.988874091473402\n",
      "flans\n",
      "-19.99946987154684\n",
      "gevels\n",
      "-19.99946987154684\n",
      "gisten\n",
      "-20.00212083742674\n",
      "gonsde\n",
      "-20.00212083742674\n",
      "grief\n",
      "-20.00212083742674\n",
      "hese\n",
      "-19.99946987154684\n",
      "imams\n",
      "-19.996819714504753\n",
      "juffen\n",
      "-19.99946987154684\n",
      "karpers\n",
      "-19.99946987154684\n",
      "klavier\n",
      "-19.996819714504753\n",
      "lanen\n",
      "-19.99946987154684\n",
      "lijsters\n",
      "-20.00212083742674\n",
      "lome\n",
      "-19.99946987154684\n",
      "margriet\n",
      "-19.99946987154684\n",
      "metrum\n",
      "-19.99946987154684\n",
      "oker\n",
      "-20.00212083742674\n",
      "polders\n",
      "-19.99946987154684\n",
      "ponten\n",
      "-19.99946987154684\n",
      "porde\n",
      "-20.00212083742674\n",
      "puien\n",
      "-19.99946987154684\n",
      "rafel\n",
      "-19.99946987154684\n",
      "ratels\n",
      "-19.996819714504753\n",
      "reigers\n",
      "-20.00212083742674\n",
      "rogge\n",
      "-19.99946987154684\n",
      "schoffels\n",
      "-19.99946987154684\n",
      "schuiten\n",
      "-19.996819714504753\n",
      "sfinxen\n",
      "-19.99946987154684\n",
      "sikkels\n",
      "-19.99946987154684\n",
      "sjalot\n",
      "-20.00212083742674\n",
      "snert\n",
      "-20.00212083742674\n",
      "spurt\n",
      "-19.996819714504753\n",
      "stekken\n",
      "-19.99946987154684\n",
      "stengels\n",
      "-20.00212083742674\n",
      "stram\n",
      "-19.996819714504753\n",
      "strotten\n",
      "-20.00212083742674\n",
      "suste\n",
      "-20.00212083742674\n",
      "topaas\n",
      "-19.99946987154684\n",
      "venkel\n",
      "-20.00212083742674\n",
      "woei\n",
      "-19.99946987154684\n",
      "wrongel\n",
      "-20.00212083742674\n",
      "zolders\n",
      "['ant', 'bezans', 'bluit', 'bluurde', 'brad', 'bralat', 'breent', 'brum', 'darboen', 'doppel', 'drintels', 'entel', 'fankel', 'fradingo', 'gals', 'gardien', 'gebeikt', 'gefaapt', 'gefruld', 'geslonden', 'gesmalpt', 'gevupt', 'gewunnen', 'giep', 'gietsen', 'gimmel', 'glaf', 'glijp', 'goont', 'grantel', 'grede', 'groeken', 'herken', 'hormen', 'jaat', 'jugen', 'kabrieken', 'kadders', 'kandola', 'kiemeten', 'kijs', 'kimensie', 'klaam', 'klaap', 'knaarde', 'kormel', 'kumus', 'kuukt', 'kwarp', 'labber', 'leumen', 'liek', 'loedsels', 'megen', 'mijk', 'millag', 'moksen', 'monen', 'murselein', 'nammer', 'nef', 'nergen', 'pals', 'pectars', 'pirrel', 'plenk', 'plin', 'plirken', 'ploe', 'plond', 'prookt', 'pruit', 'rakot', 'rastel', 'rieve', 'rogenten', 'rokan', 'rons', 'rufel', 'slont', 'sluinen', 'smaan', 'snarpen', 'snoen', 'spodiel', 'stiraal', 'stodeum', 'tombel', 'trorg', 'udel', 'vebras', 'verke', 'vlorken', 'vlump', 'vrijk', 'vroel', 'women', 'zelijk', 'zerder', 'zuun']\n",
      "100\n",
      "100\n",
      "-19.996819714504753\n",
      "ant\n",
      "-19.99946987154684\n",
      "bezans\n",
      "-20.00212083742674\n",
      "bluit\n",
      "-19.99946987154684\n",
      "bluurde\n",
      "-19.99946987154684\n",
      "brad\n",
      "-19.99946987154684\n",
      "bralat\n",
      "-20.00212083742674\n",
      "breent\n",
      "-19.99946987154684\n",
      "brum\n",
      "-19.99946987154684\n",
      "darboen\n",
      "-19.996819714504753\n",
      "doppel\n",
      "-19.99417036580705\n",
      "drintels\n",
      "-19.99946987154684\n",
      "entel\n",
      "-19.99946987154684\n",
      "fankel\n",
      "-20.00212083742674\n",
      "fradingo\n",
      "-19.99946987154684\n",
      "gals\n",
      "-20.00212083742674\n",
      "gardien\n",
      "-19.99946987154684\n",
      "gebeikt\n",
      "-20.00477261263832\n",
      "gefaapt\n",
      "-20.00212083742674\n",
      "gefruld\n",
      "-19.99946987154684\n",
      "geslonden\n",
      "-19.99946987154684\n",
      "gesmalpt\n",
      "-19.99946987154684\n",
      "gevupt\n",
      "-19.99946987154684\n",
      "gewunnen\n",
      "-20.00212083742674\n",
      "giep\n",
      "-19.99946987154684\n",
      "gietsen\n",
      "-19.996819714504753\n",
      "gimmel\n",
      "-19.996819714504753\n",
      "glaf\n",
      "-20.00212083742674\n",
      "glijp\n",
      "-19.99946987154684\n",
      "goont\n",
      "-19.99946987154684\n",
      "grantel\n",
      "-19.99946987154684\n",
      "grede\n",
      "-19.99946987154684\n",
      "groeken\n",
      "-19.99946987154684\n",
      "herken\n",
      "-19.99946987154684\n",
      "hormen\n",
      "-19.99946987154684\n",
      "jaat\n",
      "-19.99946987154684\n",
      "jugen\n",
      "-20.00212083742674\n",
      "kabrieken\n",
      "-20.00212083742674\n",
      "kadders\n",
      "-20.00212083742674\n",
      "kandola\n",
      "-19.99946987154684\n",
      "kiemeten\n",
      "-20.00212083742674\n",
      "kijs\n",
      "-20.00212083742674\n",
      "kimensie\n",
      "-19.996819714504753\n",
      "klaam\n",
      "-19.99946987154684\n",
      "klaap\n",
      "-19.99946987154684\n",
      "knaarde\n",
      "-19.99946987154684\n",
      "kormel\n",
      "-20.00212083742674\n",
      "kumus\n",
      "-19.99946987154684\n",
      "kuukt\n",
      "-19.99946987154684\n",
      "kwarp\n",
      "-20.00212083742674\n",
      "labber\n",
      "-20.00212083742674\n",
      "leumen\n",
      "-19.99946987154684\n",
      "liek\n",
      "-19.99946987154684\n",
      "loedsels\n",
      "-20.00212083742674\n",
      "megen\n",
      "-19.99946987154684\n",
      "mijk\n",
      "-19.996819714504753\n",
      "millag\n",
      "-19.996819714504753\n",
      "moksen\n",
      "-20.00212083742674\n",
      "monen\n",
      "-19.99946987154684\n",
      "murselein\n",
      "-20.00212083742674\n",
      "nammer\n",
      "-19.99946987154684\n",
      "nef\n",
      "-19.99946987154684\n",
      "nergen\n",
      "-19.99946987154684\n",
      "pals\n",
      "-20.00212083742674\n",
      "pectars\n",
      "-20.00212083742674\n",
      "pirrel\n",
      "-20.00212083742674\n",
      "plenk\n",
      "-20.00212083742674\n",
      "plin\n",
      "-20.00212083742674\n",
      "plirken\n",
      "-19.996819714504753\n",
      "ploe\n",
      "-20.00212083742674\n",
      "plond\n",
      "-19.99946987154684\n",
      "prookt\n",
      "-19.996819714504753\n",
      "pruit\n",
      "-19.99946987154684\n",
      "rakot\n",
      "-19.99946987154684\n",
      "rastel\n",
      "-19.996819714504753\n",
      "rieve\n",
      "-19.99946987154684\n",
      "rogenten\n",
      "-19.99946987154684\n",
      "rokan\n",
      "-19.996819714504753\n",
      "rons\n",
      "-19.99946987154684\n",
      "rufel\n",
      "-19.99946987154684\n",
      "slont\n",
      "-20.00212083742674\n",
      "sluinen\n",
      "-20.00212083742674\n",
      "smaan\n",
      "-20.00212083742674\n",
      "snarpen\n",
      "-19.99946987154684\n",
      "snoen\n",
      "-19.99946987154684\n",
      "spodiel\n",
      "-19.99946987154684\n",
      "stiraal\n",
      "-19.99946987154684\n",
      "stodeum\n",
      "-19.99946987154684\n",
      "tombel\n",
      "-20.00212083742674\n",
      "trorg\n",
      "-19.996819714504753\n",
      "udel\n",
      "-19.99946987154684\n",
      "vebras\n",
      "-20.00212083742674\n",
      "verke\n",
      "-19.99946987154684\n",
      "vlorken\n",
      "-19.99946987154684\n",
      "vlump\n",
      "-19.99946987154684\n",
      "vrijk\n",
      "-20.00212083742674\n",
      "vroel\n",
      "-19.99946987154684\n",
      "women\n",
      "-19.99946987154684\n",
      "zelijk\n",
      "-19.996819714504753\n",
      "zerder\n",
      "-19.99946987154684\n",
      "zuun\n"
     ]
    }
   ],
   "source": [
    "### YOUR CODE HERE\n",
    "\n",
    "\n",
    "### high frequency condition\n",
    "sound_path_HF = os.path.join(sound_folder, \"HF_recording.wav\")\n",
    "sound_HF = AudioSegment.from_wav(sound_path)\n",
    "#play(sound_HF)\n",
    "\n",
    "# split the words on silence\n",
    "words_HF = silence.split_on_silence(sound_HF, min_silence_len=200, silence_thresh=-50)\n",
    "print(len(words_HF))\n",
    "print(len(stimuli['HF']))\n",
    "\n",
    "target_vol = -20\n",
    "HF = \"c:\\\\Users\\\\bonny120\\\\Desktop\\\\Comp Bioacoustics\\\\IMPRS\\\\Courses#\\\\Python\\\\session2b-soundprocessing\\\\HF\"\n",
    "if not os.path.isdir(HF):\n",
    "    os.mkdir(HF)\n",
    "for i in range(len(words_HF)):  \n",
    "    wort = words_HF[i]  \n",
    "    #play (wort) # plays all words after each other, showing if silence_len, and silence_thresh are appropriate\n",
    "    #print (wort.dBFS) # prints the dB of all words\n",
    "    if wort.dBFS != target_vol:\n",
    "        change = target_vol - wort.dBFS\n",
    "        word_dB = wort.apply_gain(change) # makes sure they all have the same loudness, here 20 dB\n",
    "        print(word_dB.dBFS)\n",
    "        #play (word_dB)\n",
    "    else:\n",
    "        word_dB = wort\n",
    "        \n",
    "    filename = stimuli['HF'][i] \n",
    "    print(filename)\n",
    "\n",
    "    new_filename = os.path.join(HF, filename) + \".wav\"\n",
    "    outfile_handle = word_dB.export(new_filename, format=\"wav\")\n",
    "    outfile_handle.close()\n",
    "\n",
    "\n",
    "\n",
    "\n",
    "# ## low frequency condition\n",
    "sound_path_LF = os.path.join(sound_folder, \"LF_recording.wav\")\n",
    "sound_LF = AudioSegment.from_wav(sound_path_LF)\n",
    "#play(sound_LF)\n",
    "\n",
    "# split the words on silence\n",
    "words_LF = silence.split_on_silence(sound_LF, min_silence_len=200, silence_thresh=-50)\n",
    "print(len(words_LF))\n",
    "print(len(stimuli['LF']))\n",
    "\n",
    "target_vol = -20\n",
    "LF = \"c:\\\\Users\\\\bonny120\\\\Desktop\\\\Comp Bioacoustics\\\\IMPRS\\\\Courses#\\\\Python\\\\session2b-soundprocessing\\\\LF\"\n",
    "if not os.path.isdir(LF):\n",
    "    os.mkdir(LF)\n",
    "\n",
    "for i in range(len(words_LF)):  \n",
    "    wort = words_LF[i]\n",
    "    #play (wort) # plays all words after each other, showing if silence_len, and silence_thresh are appropriate\n",
    "    #print (wort.dBFS) # prints the dB of all words\n",
    "\n",
    "    if wort.dBFS != target_vol:\n",
    "        change = target_vol - wort.dBFS\n",
    "        word_dB = wort.apply_gain(change) # makes sure they all have the same loudness, here 20 dB\n",
    "        #play (word_dB)\n",
    "        print(word_dB.dBFS)\n",
    "    else:\n",
    "        word_dB = wort\n",
    "        \n",
    "    filename = stimuli['LF'][i] \n",
    "    print(filename)\n",
    "\n",
    "    new_filename = os.path.join(LF, filename) + \".wav\"\n",
    "    outfile_handle = word_dB.export(new_filename, format=\"wav\")\n",
    "    outfile_handle.close()\n",
    "\n",
    "\n",
    "# no word condition\n",
    "\n",
    "sound_path_NW = os.path.join(sound_folder, \"NW_recording.wav\")\n",
    "sound_NW = AudioSegment.from_wav(sound_path_NW)\n",
    "#play(sound_NW)\n",
    "print(stimuli['NW'])\n",
    "\n",
    "# split the words on silence\n",
    "words_NW = silence.split_on_silence(sound_NW, min_silence_len=200, silence_thresh=-50)\n",
    "print(len(words_NW))\n",
    "print(len(stimuli['NW']))\n",
    "\n",
    "NW = \"c:\\\\Users\\\\bonny120\\\\Desktop\\\\Comp Bioacoustics\\\\IMPRS\\\\Courses#\\\\Python\\\\session2b-soundprocessing\\\\NW\"\n",
    "if not os.path.isdir(NW):\n",
    "    os.mkdir(NW)\n",
    "\n",
    "target_vol = -20\n",
    "\n",
    "for i in range(len(words_NW)):  \n",
    "    wort = words_NW[i]\n",
    "    #play (wort) # plays all words after each other, showing if silence_len, and silence_thresh are appropriate\n",
    "    #print (wort.dBFS) # prints the dB of all words\n",
    "\n",
    "    if wort.dBFS != target_vol:\n",
    "        change = target_vol - wort.dBFS\n",
    "        word_dB = wort.apply_gain(change) # makes sure they all have the same loudness, here 20 dB\n",
    "        #play (word_dB)\n",
    "        print(word_dB.dBFS)\n",
    "\n",
    "    else:\n",
    "        word_dB = wort\n",
    "        \n",
    "    filename = stimuli['NW'][i] \n",
    "    print(filename)\n",
    "\n",
    "    new_filename = os.path.join(NW, filename) + \".wav\"\n",
    "    outfile_handle = word_dB.export(new_filename, format=\"wav\")\n",
    "    outfile_handle.close()    \n",
    "\n",
    "\n",
    "\n",
    "\n",
    "\n"
   ]
  },
  {
   "cell_type": "code",
   "execution_count": null,
   "metadata": {},
   "outputs": [],
   "source": []
  },
  {
   "cell_type": "markdown",
   "metadata": {},
   "source": []
  },
  {
   "cell_type": "markdown",
   "metadata": {},
   "source": [
    "<font color='pink'>**BONUS**: Praat in Python</font> \n",
    "\n",
    "If you're interested in using Praat in Python, LET US KNOW! There are some options. \n",
    "This is not part of the tutorial, but we can help you set it up if you like. \n",
    "\n",
    "*Disclaimer: I have no experience with Praat so I will only help you find the relevant materials*\n",
    "\n",
    "\n",
    "In the next cells you will see some examples using **Parselmouth**, a Python library for the Praat software. \n",
    "From their [website](https://parselmouth.readthedocs.io/en/stable/): \n",
    "\n",
    "*\"Though other attempts have been made at porting functionality from Praat to Python, Parselmouth is unique in its aim to provide a complete and Pythonic interface to the internal Praat code. While other projects either wrap Praat’s scripting language or reimplementing parts of Praat’s functionality in Python, Parselmouth directly accesses Praat’s C/C++ code (which means the algorithms and their output are exactly the same as in Praat) and provides efficient access to the program’s data, but also provides an interface that looks no different from any other Python library.\n",
    "Please note that Parselmouth is currently in premature state and in active development. While the amount of functionality that is currently present is not huge, more will be added over the next few months. As such, feedback and possibly contributions are highly appreciated.\"* \n"
   ]
  },
  {
   "cell_type": "code",
   "execution_count": null,
   "metadata": {},
   "outputs": [],
   "source": [
    "## It is also possible to install libraries from your notebook directly. \n",
    "# Uncomment the next two lines if you want to try it out: \n",
    "\n",
    "#import sys\n",
    "#!{sys.executable} -m pip install praat-parselmouth"
   ]
  },
  {
   "cell_type": "code",
   "execution_count": 12,
   "metadata": {},
   "outputs": [],
   "source": [
    "\n",
    "import parselmouth\n",
    "import matplotlib.pyplot as plt \n",
    "import numpy as np"
   ]
  },
  {
   "cell_type": "code",
   "execution_count": 24,
   "metadata": {},
   "outputs": [],
   "source": [
    "sound = parselmouth.Sound(\"C:\\\\Users\\\\bonny120\\\\Desktop\\\\Comp Bioacoustics\\\\IMPRS\\\\Courses#\\\\Python\\\\session2b-soundprocessing\\\\raw\\\\the_north_wind_and_the_sun.wav\")\n",
    "Jannik = parselmouth.Sound (\"C:\\\\Users\\\\bonny120\\\\Desktop\\\\Comp Bioacoustics\\\\IMPRS\\\\Courses#\\\\Python\\\\session2b-soundprocessing\\\\Example_sounds\\\\Jannik_03082021_ZOOM0001_36_snort_c.wav\")\n",
    "Elektra = parselmouth.Sound (\"C:\\\\Users\\\\bonny120\\\\Desktop\\\\Comp Bioacoustics\\\\IMPRS\\\\Courses#\\\\Python\\\\session2b-soundprocessing\\\\Example_sounds\\\\Elektra_04112021_ZOOM0025_9_snort.wav\")"
   ]
  },
  {
   "cell_type": "markdown",
   "metadata": {},
   "source": [
    "`sound` is now a Parselmouth [Sound](../api_reference.rst#parselmouth.Sound) object, and we can access its values and other properties to plot them with the common `matplotlib` Python library:"
   ]
  },
  {
   "cell_type": "code",
   "execution_count": 27,
   "metadata": {},
   "outputs": [
    {
     "data": {
      "image/png": "[encoded data removed]",
      "text/plain": [
       "<Figure size 432x288 with 1 Axes>"
      ]
     },
     "metadata": {
      "needs_background": "light"
     },
     "output_type": "display_data"
    },
    {
     "data": {
      "image/png": "[encoded data removed]",
      "text/plain": [
       "<Figure size 432x288 with 1 Axes>"
      ]
     },
     "metadata": {
      "needs_background": "light"
     },
     "output_type": "display_data"
    }
   ],
   "source": [
    "plt.figure()\n",
    "plt.plot(Jannik.xs(), Jannik.values.T)\n",
    "plt.xlim([Jannik.xmin, Jannik.xmax])\n",
    "plt.xlabel(\"time [s]\")\n",
    "plt.ylabel(\"amplitude\")\n",
    "plt.title(\"Jannik\")\n",
    "plt.show() # or plt.savefig(\"sound.png\"), or plt.savefig(\"sound.pdf\")\n",
    "\n",
    "plt.figure()\n",
    "plt.plot(Elektra.xs(), Elektra.values.T)\n",
    "plt.xlim([Elektra.xmin, Elektra.xmax])\n",
    "plt.xlabel(\"time [s]\")\n",
    "plt.ylabel(\"amplitude\")\n",
    "plt.title(\"Elektra\")\n",
    "plt.show() # or plt.savefig(\"sound.png\"), or plt.savefig(\"sound.pdf\")\n"
   ]
  },
  {
   "cell_type": "code",
   "execution_count": null,
   "metadata": {},
   "outputs": [],
   "source": []
  }
 ],
 "metadata": {
  "interpreter": {
   "hash": "38a22b065f140b1b194ec590c9ddb08b730ed9af161286fe62f6ab494c4ee990"
  },
  "kernelspec": {
   "display_name": "Rift",
   "language": "python",
   "name": "python3"
  },
  "language_info": {
   "codemirror_mode": {
    "name": "ipython",
    "version": 3
   },
   "file_extension": ".py",
   "mimetype": "text/x-python",
   "name": "python",
   "nbconvert_exporter": "python",
   "pygments_lexer": "ipython3",
   "version": "3.10.2"
  },
  "orig_nbformat": 4
 },
 "nbformat": 4,
 "nbformat_minor": 2
}
